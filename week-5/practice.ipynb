{
 "cells": [
  {
   "cell_type": "code",
   "execution_count": 3,
   "id": "22bb92f8-9715-4ef4-8f72-bca4906db411",
   "metadata": {},
   "outputs": [
    {
     "name": "stdout",
     "output_type": "stream",
     "text": [
      "Im first call to user defined function!\n",
      "Again second call to the same function\n"
     ]
    }
   ],
   "source": [
    "def printme (str):\n",
    "    print(str);\n",
    "    return\n",
    "printme(\"Im first call to user defined function!\");\n",
    "printme(\"Again second call to the same function\");"
   ]
  },
  {
   "cell_type": "code",
   "execution_count": 12,
   "id": "1c95cf86-53f7-4dbe-95c0-8b13c51170f1",
   "metadata": {},
   "outputs": [
    {
     "name": "stdout",
     "output_type": "stream",
     "text": [
      "Values inside the function:  [10, 20, 30, 40, [1, 2, 3, 4]]\n",
      "Values outside the function:  [10, 20, 30, 40, [1, 2, 3, 4]]\n"
     ]
    }
   ],
   "source": [
    "def changeme(mylist):\n",
    "    mylist.append([1,2,3,4])\n",
    "    print (\"Values inside the function: \", mylist);\n",
    "    return\n",
    "mylist = [10,20,30,40] \n",
    "changeme( mylist )\n",
    "print (\"Values outside the function: \", mylist);\n"
   ]
  },
  {
   "cell_type": "code",
   "execution_count": 7,
   "id": "998cbc66-1ddf-4b63-91de-34c71ae9b918",
   "metadata": {},
   "outputs": [
    {
     "name": "stdout",
     "output_type": "stream",
     "text": [
      "Values inside the function:  [1, 2, 3, 4]\n",
      "Values outside the function:  [10, 20, 30, 40]\n"
     ]
    }
   ],
   "source": [
    "def changeme(mylist):\n",
    "    mylist = [1,2,3,4]\n",
    "    print (\"Values inside the function: \", mylist);\n",
    "    return\n",
    "mylist = [10,20,30,40] \n",
    "changeme( mylist );\n",
    "print (\"Values outside the function: \", mylist)"
   ]
  },
  {
   "cell_type": "code",
   "execution_count": 13,
   "id": "087aa685-3bf7-467f-912e-6721fe7a8c5d",
   "metadata": {},
   "outputs": [
    {
     "name": "stdout",
     "output_type": "stream",
     "text": [
      "My string\n"
     ]
    }
   ],
   "source": [
    "def printme (str):\n",
    "    print(str);\n",
    "    return\n",
    "printme (str = \"My string\")    "
   ]
  },
  {
   "cell_type": "code",
   "execution_count": 14,
   "id": "86e2d013-7688-4e39-8615-85e6ff141191",
   "metadata": {},
   "outputs": [
    {
     "name": "stdout",
     "output_type": "stream",
     "text": [
      "Name:  miki\n",
      "Age:  50\n"
     ]
    }
   ],
   "source": [
    "def printinfo( name,age ):\n",
    "    print (\"Name: \", name);\n",
    "    print (\"Age: \", age);\n",
    "    return;\n",
    "printinfo( age = 50, name = 'miki')    "
   ]
  },
  {
   "cell_type": "code",
   "execution_count": 16,
   "id": "0e4f35a5-aa98-40ef-b479-cc34ce5e0f38",
   "metadata": {},
   "outputs": [
    {
     "name": "stdout",
     "output_type": "stream",
     "text": [
      "Name:  miki\n",
      "Age:  50\n",
      "Name:  miki\n",
      "Age:  35\n"
     ]
    }
   ],
   "source": [
    "def printinfo( name,age = 35 ):\n",
    "    print (\"Name: \", name);\n",
    "    print (\"Age: \", age);\n",
    "    return;\n",
    "printinfo( age = 50, name = 'miki')\n",
    "printinfo( name = 'miki')"
   ]
  },
  {
   "cell_type": "code",
   "execution_count": 18,
   "id": "13a0c66f-37d7-4aaa-bb2a-99896ff32f0b",
   "metadata": {},
   "outputs": [
    {
     "name": "stdout",
     "output_type": "stream",
     "text": [
      "Output is: \n",
      "10\n",
      "Output is: \n",
      "70\n",
      "60\n"
     ]
    }
   ],
   "source": [
    "def printinfo( arg1, *vartuple ):\n",
    "    print ('Output is: ');\n",
    "    print (arg1);\n",
    "    for var in vartuple:\n",
    "        print(var)\n",
    "        return;\n",
    "printinfo( 10 );\n",
    "printinfo( 70,60,50 );\n"
   ]
  },
  {
   "cell_type": "code",
   "execution_count": 19,
   "id": "655c166f-9a17-4d78-87fa-2d960600c1ad",
   "metadata": {},
   "outputs": [
    {
     "name": "stdout",
     "output_type": "stream",
     "text": [
      "Inside the function local total:  30\n",
      "Outside the function global total :  50\n"
     ]
    }
   ],
   "source": [
    "total = 50;\n",
    "def sum(arg1,arg2):\n",
    "    total = arg1 + arg2;\n",
    "    print(\"Inside the function local total: \", total)\n",
    "    return total;\n",
    "\n",
    "sum ( 10, 20);\n",
    "print (\"Outside the function global total : \", total)\n"
   ]
  },
  {
   "cell_type": "code",
   "execution_count": 20,
   "id": "1ddc8bcf-722a-4f27-a4af-63c5967654e6",
   "metadata": {},
   "outputs": [
    {
     "name": "stdout",
     "output_type": "stream",
     "text": [
      "Lawal Edward Tolu Tina\n",
      "Mary\n"
     ]
    }
   ],
   "source": [
    "def swap(x, y):\n",
    "    global a\n",
    "    a = \"Lawal\"\n",
    "    x,y = y,x\n",
    "    b = 'Chris'\n",
    "    b = 'Edward'\n",
    "    c = 'Lola'\n",
    "    print(a,b,x,y)\n",
    "    a = 'Mary'\n",
    "swap('Tina','Tolu')\n",
    "print(a)"
   ]
  },
  {
   "cell_type": "code",
   "execution_count": null,
   "id": "bb472ad8-a542-4ad0-a002-53198c9ce921",
   "metadata": {},
   "outputs": [],
   "source": []
  }
 ],
 "metadata": {
  "kernelspec": {
   "display_name": "Python 3 (ipykernel)",
   "language": "python",
   "name": "python3"
  },
  "language_info": {
   "codemirror_mode": {
    "name": "ipython",
    "version": 3
   },
   "file_extension": ".py",
   "mimetype": "text/x-python",
   "name": "python",
   "nbconvert_exporter": "python",
   "pygments_lexer": "ipython3",
   "version": "3.11.7"
  }
 },
 "nbformat": 4,
 "nbformat_minor": 5
}
