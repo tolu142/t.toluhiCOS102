{
 "cells": [
  {
   "cell_type": "code",
   "execution_count": 4,
   "id": "a9563a03-740f-447b-9495-41f4530b8904",
   "metadata": {},
   "outputs": [
    {
     "name": "stdout",
     "output_type": "stream",
     "text": [
      "Before swap:\n",
      "{'John': 25, 'Alice': 30}\n",
      "Ages swapped successfully.\n",
      "After swap:\n",
      "{'John': 30, 'Alice': 25}\n"
     ]
    }
   ],
   "source": [
    "def swap_ages(names_age_dict, name1, name2):\n",
    "    if name1 not in names_age_dict or name2 not in names_age_dict:\n",
    "        print(\"One or both names not found.\")\n",
    "        return\n",
    "\n",
    "    temp_age = names_age_dict[name1]\n",
    "    names_age_dict[name1] = names_age_dict[name2]\n",
    "    names_age_dict[name2] = temp_age\n",
    "\n",
    "    print(\"Ages swapped successfully.\")\n",
    "\n",
    "# Example usage:\n",
    "names_age = {\"John\": 25, \"Alice\": 30}\n",
    "\n",
    "print(\"Before swap:\")\n",
    "print(names_age)\n",
    "\n",
    "swap_ages(names_age, \"John\", \"Alice\")\n",
    "\n",
    "print(\"After swap:\")\n",
    "print(names_age)"
   ]
  },
  {
   "cell_type": "code",
   "execution_count": null,
   "id": "ace27bb5-1769-42a5-a228-5c5c53cba989",
   "metadata": {},
   "outputs": [],
   "source": []
  }
 ],
 "metadata": {
  "kernelspec": {
   "display_name": "Python 3 (ipykernel)",
   "language": "python",
   "name": "python3"
  },
  "language_info": {
   "codemirror_mode": {
    "name": "ipython",
    "version": 3
   },
   "file_extension": ".py",
   "mimetype": "text/x-python",
   "name": "python",
   "nbconvert_exporter": "python",
   "pygments_lexer": "ipython3",
   "version": "3.11.7"
  }
 },
 "nbformat": 4,
 "nbformat_minor": 5
}
