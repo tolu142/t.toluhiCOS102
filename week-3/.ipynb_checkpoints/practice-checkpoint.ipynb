{
 "cells": [
  {
   "cell_type": "code",
   "execution_count": 1,
   "id": "035bbdfa-1cc6-4e67-9002-a49e519ae20d",
   "metadata": {},
   "outputs": [
    {
     "name": "stdin",
     "output_type": "stream",
     "text": [
      "Enter your state of origin: kogi\n"
     ]
    },
    {
     "name": "stdout",
     "output_type": "stream",
     "text": [
      "Your state of origin is:  kogi\n",
      "The first character is: k\n",
      "The characters starting from 3rd to 5th are:  gi\n",
      "The string starting from 3rd character is:  gi\n",
      "State of origin two times kogikogi\n"
     ]
    }
   ],
   "source": [
    "str = input(\"Enter your state of origin:\")\n",
    "\n",
    "print (\"Your state of origin is: \", str)\n",
    "print (\"The first character is:\", str[0])\n",
    "print (\"The characters starting from 3rd to 5th are: \", str[2:5])\n",
    "print (\"The string starting from 3rd character is: \", str[2:])\n",
    "print (\"State of origin two times\", str * 2)"
   ]
  },
  {
   "cell_type": "code",
   "execution_count": 5,
   "id": "ac561967-96c5-4687-88df-c814b4f8d82e",
   "metadata": {},
   "outputs": [
    {
     "name": "stdin",
     "output_type": "stream",
     "text": [
      "Enter mass in kilograms:  23\n"
     ]
    },
    {
     "name": "stdout",
     "output_type": "stream",
     "text": [
      "The energy equivalent to 23.0 kg of mass is 2.0671369110946806e+18 joules.\n"
     ]
    }
   ],
   "source": [
    "# Input from me\n",
    "m = float(input(\"Enter mass in kilograms: \"))\n",
    "\n",
    "# Constant value for the speed of light in m/s\n",
    "c = 299792458\n",
    "\n",
    "energy = m * c ** 2\n",
    "\n",
    "print(f\"The energy equivalent to {m} kg of mass is {energy} joules.\")"
   ]
  },
  {
   "cell_type": "code",
   "execution_count": 7,
   "id": "951aaf25-2f8b-4395-871b-1a2f67488f14",
   "metadata": {},
   "outputs": [
    {
     "name": "stdout",
     "output_type": "stream",
     "text": [
      "['Anaconda', 786, 2.23, 'Jupyter', 70.2]\n",
      "Anaconda\n",
      "[786, 2.23]\n",
      "[2.23, 'Jupyter', 70.2]\n",
      "[321, 'Python', 321, 'Python']\n",
      "['Anaconda', 786, 2.23, 'Jupyter', 70.2, 321, 'Python']\n"
     ]
    }
   ],
   "source": [
    "list = [ 'Anaconda', 786 , 2.23, 'Jupyter', 70.2 ]\n",
    "shortlist = [ 321, 'Python']\n",
    "\n",
    "print(list)  #prints complete list\n",
    "print(list[0])  #prints first element of the list\n",
    "print(list[1:3])  # prints index 2 till 3rd value\n",
    "print(list[2:])  # prints starting from 3rd element which is the second index \n",
    "print(shortlist * 2)\n",
    "print(list + shortlist) # prints concatenated lists\n"
   ]
  },
  {
   "cell_type": "code",
   "execution_count": null,
   "id": "d2753943-b86d-44cf-9c99-43da6b037f28",
   "metadata": {},
   "outputs": [],
   "source": []
  }
 ],
 "metadata": {
  "kernelspec": {
   "display_name": "Python 3 (ipykernel)",
   "language": "python",
   "name": "python3"
  },
  "language_info": {
   "codemirror_mode": {
    "name": "ipython",
    "version": 3
   },
   "file_extension": ".py",
   "mimetype": "text/x-python",
   "name": "python",
   "nbconvert_exporter": "python",
   "pygments_lexer": "ipython3",
   "version": "3.11.7"
  }
 },
 "nbformat": 4,
 "nbformat_minor": 5
}
