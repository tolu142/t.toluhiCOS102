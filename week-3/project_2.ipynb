{
 "cells": [
  {
   "cell_type": "code",
   "execution_count": 19,
   "id": "280fa02d-9329-4c1e-bf6e-f7f760706451",
   "metadata": {},
   "outputs": [
    {
     "name": "stdout",
     "output_type": "stream",
     "text": [
      "Roots of the cubic equation: [-1.91687548+1.87669442j -1.91687548-1.87669442j  0.83375096+0.j        ]\n"
     ]
    }
   ],
   "source": [
    "def cubic_roots(coefficients):\n",
    "    roots = np.roots(coefficients)\n",
    "    return roots\n",
    "\n",
    "a = 1\n",
    "b = 3\n",
    "c = 4\n",
    "d = -6\n",
    "# Solve for the roots of the equation: ax^3 + bx^2 + cx + d = 0\n",
    "coefficients = [a, b, c, d]\n",
    "roots = cubic_roots(coefficients)\n",
    "print(\"Roots of the cubic equation:\", roots)"
   ]
  },
  {
   "cell_type": "code",
   "execution_count": 25,
   "id": "59be3632-bb2f-40eb-baa7-c99136b1b1cf",
   "metadata": {},
   "outputs": [
    {
     "name": "stdout",
     "output_type": "stream",
     "text": [
      "Roots of the quartic equation: [0.15422516 0.15422498 0.15422495 0.15422498]\n"
     ]
    }
   ],
   "source": [
    "def quartic_equation_solver(coefficients):\n",
    "    def equation(x, *coefficients):\n",
    "        a, b, c, d, e = coefficients\n",
    "        return a * x**4 + b * x**3 + c * x**2 + d * x + e\n",
    "    \n",
    "    roots = optimize.root(equation, x0=np.zeros(4), args=tuple(coefficients))\n",
    "    return roots.x\n",
    "\n",
    "# Example usage:\n",
    "# Solve for the roots of the equation: ax^4 + bx^3 + cx^2 + dx + e = 0\n",
    "a = 1\n",
    "b = -10\n",
    "c = 12\n",
    "d = -3\n",
    "e = 44\n",
    "\n",
    "coefficients = [a, b, c, d, e]\n",
    "roots = quartic_equation_solver(coefficients)\n",
    "print(\"Roots of the quartic equation:\", roots)"
   ]
  },
  {
   "cell_type": "code",
   "execution_count": null,
   "id": "c4315cea-120d-4a31-abee-a00fdd8728d3",
   "metadata": {},
   "outputs": [],
   "source": []
  }
 ],
 "metadata": {
  "kernelspec": {
   "display_name": "Python 3 (ipykernel)",
   "language": "python",
   "name": "python3"
  },
  "language_info": {
   "codemirror_mode": {
    "name": "ipython",
    "version": 3
   },
   "file_extension": ".py",
   "mimetype": "text/x-python",
   "name": "python",
   "nbconvert_exporter": "python",
   "pygments_lexer": "ipython3",
   "version": "3.11.7"
  }
 },
 "nbformat": 4,
 "nbformat_minor": 5
}
