{
 "cells": [
  {
   "cell_type": "code",
   "execution_count": null,
   "id": "d37c66ab-b4d7-4afe-ac9d-51e9317cfc95",
   "metadata": {},
   "outputs": [],
   "source": [
    "age = int(input(\"Enter your age: \"))\n",
    "    \n",
    "# Input for years of experience\n",
    "years_of_experience = int(input(\"Enter your years of experience: \"))\n",
    "if age >= 55 & years_of_experience > 25:\n",
    "    print(\"Annual Tax revenue of staff is N5600000\")\n",
    "    \n",
    "if age >= 45 & years_of_experience > 20:\n",
    "    print(\"Annual Tax revenue of staff is N4840000\")\n",
    "\n",
    "if age >= 35 & years_of_experience > 10:\n",
    "    print(\"Annual Tax revenue of staff is N1500000\")\n",
    "\n",
    "else: \n",
    "    print(\"Annual Tax revenue of staff is N550000\")\n"
   ]
  }
 ],
 "metadata": {
  "kernelspec": {
   "display_name": "Python 3 (ipykernel)",
   "language": "python",
   "name": "python3"
  },
  "language_info": {
   "codemirror_mode": {
    "name": "ipython",
    "version": 3
   },
   "file_extension": ".py",
   "mimetype": "text/x-python",
   "name": "python",
   "nbconvert_exporter": "python",
   "pygments_lexer": "ipython3",
   "version": "3.11.7"
  }
 },
 "nbformat": 4,
 "nbformat_minor": 5
}
