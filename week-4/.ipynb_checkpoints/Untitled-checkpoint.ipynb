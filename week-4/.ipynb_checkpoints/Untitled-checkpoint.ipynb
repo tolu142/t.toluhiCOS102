{
 "cells": [
  {
   "cell_type": "code",
   "execution_count": 2,
   "id": "fc2c42f1-1bdb-4691-b44b-aea6208024b9",
   "metadata": {},
   "outputs": [
    {
     "name": "stdout",
     "output_type": "stream",
     "text": [
      "+---------+-------+-----------+\n",
      "| Name    |   Age | Height    |\n",
      "+=========+=======+===========+\n",
      "| Alice   |    24 | Engineer  |\n",
      "+---------+-------+-----------+\n",
      "| Bob     |    30 | Developer |\n",
      "+---------+-------+-----------+\n",
      "| Charlie |    28 | Designer  |\n",
      "+---------+-------+-----------+\n"
     ]
    }
   ],
   "source": [
    "from tabulate import tabulate\n",
    "\n",
    "# Example data\n",
    "data = [\n",
    "    [\"Evelyn\", 17, 5.5, 80],\n",
    "    [\"Jessica\", 16, 6.0, 85],\n",
    "    [\"Somto\", 17, 5.4, 70],\n",
    "    [\"Edith\", 18, 5.9, 60],\n",
    "    [\"Liza\", 16, 5.6, 76],\n",
    "    [\"Madonna\", 18, 5.5, 66],\n",
    "    [\"Waje\", 17, 6.1, 87],\n",
    "    [\"Tola\", 20, 6.0, 95],\n",
    "    [\"Aisha\", 19, 5.7, 50],\n",
    "    [\"Latifa\", 17, 5.5, 49],\n",
    "    [\"Chinedu\", 19, 5.7, 74],\n",
    "    [\"Liam\", 16, 5.9, 87],\n",
    "    [\"Wale\", 18, 5.8, 75],\n",
    "    [\"Gbenga\", 17, 6.1, 68],\n",
    "    [\"Abiola\", 20, 5.9, 66],\n",
    "    [\"Kola\", 19, 5.5, 78],\n",
    "    [\"Kunle\", 16, 6.1, 87],\n",
    "    [\"George\", 18, 5.4, 98],\n",
    "    [\"Thomas\", 17, 5.8, 54],\n",
    "    [\"Wesley\", 17, 5.7, 60],\n",
    "    \n",
    "    \n",
    "]\n",
    "\n",
    "# Define headers for your table\n",
    "headers = [\"Name\", \"Age\", \"Height\", \"Score\"]\n",
    "\n",
    "# Print the table with tabulate\n",
    "print(tabulate(data, headers=headers, tablefmt=\"grid\"))"
   ]
  },
  {
   "cell_type": "code",
   "execution_count": null,
   "id": "3eeae2d4-5303-4e50-91f1-8bc432b9b3a1",
   "metadata": {},
   "outputs": [],
   "source": []
  }
 ],
 "metadata": {
  "kernelspec": {
   "display_name": "Python 3 (ipykernel)",
   "language": "python",
   "name": "python3"
  },
  "language_info": {
   "codemirror_mode": {
    "name": "ipython",
    "version": 3
   },
   "file_extension": ".py",
   "mimetype": "text/x-python",
   "name": "python",
   "nbconvert_exporter": "python",
   "pygments_lexer": "ipython3",
   "version": "3.11.7"
  }
 },
 "nbformat": 4,
 "nbformat_minor": 5
}
