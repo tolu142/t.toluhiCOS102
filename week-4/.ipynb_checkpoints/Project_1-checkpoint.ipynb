{
 "cells": [
  {
   "cell_type": "code",
   "execution_count": 5,
   "id": "a20d4672-657e-4bf1-aec3-d7cbc8172f9e",
   "metadata": {},
   "outputs": [
    {
     "name": "stdout",
     "output_type": "stream",
     "text": [
      "Name       Age    Height    Score\n",
      "-------  -----  --------  -------\n",
      "Evelyn      17       5.5       80\n",
      "Jessica     16       6         85\n",
      "Somto       17       5.4       70\n",
      "Edith       18       5.9       60\n",
      "Liza        16       5.6       76\n",
      "Madonna     18       5.5       66\n",
      "Waje        17       6.1       87\n",
      "Tola        20       6         95\n",
      "Aisha       19       5.7       50\n",
      "Latifa      17       5.5       49\n",
      "Chinedu     19       5.7       74\n",
      "Liam        16       5.9       87\n",
      "Wale        18       5.8       75\n",
      "Gbenga      17       6.1       68\n",
      "Abiola      20       5.9       66\n",
      "Kola        19       5.5       78\n",
      "Kunle       16       6.1       87\n",
      "George      18       5.4       98\n",
      "Thomas      17       5.8       54\n",
      "Wesley      19       5.7       60\n"
     ]
    }
   ],
   "source": [
    "from tabulate import tabulate\n",
    "# Example data\n",
    "data = [\n",
    "    [\"Evelyn\", 17, 5.5, 80],\n",
    "    [\"Jessica\", 16, 6.0, 85],\n",
    "    [\"Somto\", 17, 5.4, 70],\n",
    "    [\"Edith\", 18, 5.9, 60],\n",
    "    [\"Liza\", 16, 5.6, 76],\n",
    "    [\"Madonna\", 18, 5.5, 66],\n",
    "    [\"Waje\", 17, 6.1, 87],\n",
    "    [\"Tola\", 20, 6.0, 95],\n",
    "    [\"Aisha\", 19, 5.7, 50],\n",
    "    [\"Latifa\", 17, 5.5, 49],\n",
    "    [\"Chinedu\", 19, 5.7, 74],\n",
    "    [\"Liam\", 16, 5.9, 87],\n",
    "    [\"Wale\", 18, 5.8, 75],\n",
    "    [\"Gbenga\", 17, 6.1, 68],\n",
    "    [\"Abiola\", 20, 5.9, 66],\n",
    "    [\"Kola\", 19, 5.5, 78],\n",
    "    [\"Kunle\", 16, 6.1, 87],\n",
    "    [\"George\", 18, 5.4, 98],\n",
    "    [\"Thomas\", 17, 5.8, 54],\n",
    "    [\"Wesley\", 19, 5.7, 60],\n",
    "       \n",
    "]\n",
    "\n",
    "# Define headers for your table\n",
    "headers = [\"Name\", \"Age\", \"Height\", \"Score\"]\n",
    "\n",
    "# Print the table with tabulate\n",
    "print(tabulate(data, headers=headers))"
   ]
  },
  {
   "cell_type": "code",
   "execution_count": null,
   "id": "f997615b-bf00-487b-b50a-22b1e89e4e8a",
   "metadata": {},
   "outputs": [],
   "source": []
  }
 ],
 "metadata": {
  "kernelspec": {
   "display_name": "Python 3 (ipykernel)",
   "language": "python",
   "name": "python3"
  },
  "language_info": {
   "codemirror_mode": {
    "name": "ipython",
    "version": 3
   },
   "file_extension": ".py",
   "mimetype": "text/x-python",
   "name": "python",
   "nbconvert_exporter": "python",
   "pygments_lexer": "ipython3",
   "version": "3.11.7"
  }
 },
 "nbformat": 4,
 "nbformat_minor": 5
}
