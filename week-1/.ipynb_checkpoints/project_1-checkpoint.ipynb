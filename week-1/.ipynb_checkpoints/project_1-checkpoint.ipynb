{
 "cells": [
  {
   "cell_type": "code",
   "execution_count": 11,
   "id": "0b5da6ca-3375-4947-be77-fe93039c93fc",
   "metadata": {},
   "outputs": [
    {
     "name": "stdout",
     "output_type": "stream",
     "text": [
      "560.0\n"
     ]
    }
   ],
   "source": [
    "# Simple interest #\n",
    "\n",
    "p = 500\n",
    "#principal = p#\n",
    "r = 6\n",
    "#rate = r#\n",
    "t = 2\n",
    "#time = t#\n",
    "\n",
    "interest = p * ( 1 + ((r * t) / 100))\n",
    "print (interest)\n",
    "\n"
   ]
  },
  {
   "cell_type": "code",
   "execution_count": 10,
   "id": "678433fc-0eee-4431-bbc4-357028b162e0",
   "metadata": {},
   "outputs": [
    {
     "name": "stdout",
     "output_type": "stream",
     "text": [
      "13500.0\n"
     ]
    }
   ],
   "source": [
    "# Compound interest #\n",
    "p = 500\n",
    "r = 6\n",
    "t = 1\n",
    "n = 3\n",
    "\n",
    "compound_interest = p * ( 1 + (r / n)) ** (n * t)\n",
    "print(compound_interest)\n"
   ]
  },
  {
   "cell_type": "code",
   "execution_count": 17,
   "id": "47882847-5dc3-4a6b-91cb-a9508b2aaa9d",
   "metadata": {},
   "outputs": [
    {
     "name": "stdout",
     "output_type": "stream",
     "text": [
      "13000.0\n"
     ]
    }
   ],
   "source": [
    "# Annuity plan #\n",
    "r = 6\n",
    "t = 1\n",
    "n = 3\n",
    "p = 1000\n",
    "\n",
    "annuity_plan = p * (( 1 + (r / n)) ** (n * t) - 1) / (r / n)\n",
    "print(annuity_plan)\n"
   ]
  },
  {
   "cell_type": "code",
   "execution_count": null,
   "id": "79f24092-0519-444f-85dc-4834a0299d71",
   "metadata": {},
   "outputs": [],
   "source": []
  }
 ],
 "metadata": {
  "kernelspec": {
   "display_name": "Python 3 (ipykernel)",
   "language": "python",
   "name": "python3"
  },
  "language_info": {
   "codemirror_mode": {
    "name": "ipython",
    "version": 3
   },
   "file_extension": ".py",
   "mimetype": "text/x-python",
   "name": "python",
   "nbconvert_exporter": "python",
   "pygments_lexer": "ipython3",
   "version": "3.11.7"
  }
 },
 "nbformat": 4,
 "nbformat_minor": 5
}
