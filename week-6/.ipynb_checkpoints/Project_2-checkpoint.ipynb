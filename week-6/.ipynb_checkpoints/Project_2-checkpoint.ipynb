{
 "cells": [
  {
   "cell_type": "code",
   "execution_count": 20,
   "id": "b1c2839e-b555-49d4-b086-c90764bec4fe",
   "metadata": {},
   "outputs": [],
   "source": [
    "import tkinter as tk \n",
    "from tkinter import messagebox\n",
    "\n",
    "def submit():\n",
    "    score = int(score_entry.get())\n",
    "    credits = int(credits_entry.get())\n",
    "    interview = interview_entry.get()\n",
    "\n",
    "    if score >= 250 and credits >= 5 and interview == \"Pass\":\n",
    "        messagebox.showinfo(\"Admission Decision\", \"You have been admitted into Computer Science Department!!\")\n",
    "        return\n",
    "\n",
    "    if score >= 230 and credits >= 5 and interview == \"Pass\":\n",
    "        messagebox.showinfo(\"Admission Decision\", \"You have been admitted into Mass Communication Department!!\")\n",
    "        return\n",
    "        \n",
    "\n",
    "root = tk.Tk()\n",
    "root.title(\"Admission Decision\")\n",
    "root.geometry(\"500x200\")\n",
    "\n",
    "score_label = tk.Label(root, text = \"Score in JAMB:\")\n",
    "score_label.pack()\n",
    "score_entry = tk.Entry(root)\n",
    "score_entry.pack()\n",
    "\n",
    "credits_label = tk.Label(root, text = \"Number of key subjects passed with credit:\")\n",
    "credits_label.pack()\n",
    "credits_entry = tk.Entry(root)\n",
    "credits_entry.pack()\n",
    "\n",
    "interview_label = tk.Label(root, text = \"Interview Decision (Pass or Fail)\")\n",
    "interview_label.pack()\n",
    "interview_entry = tk.Entry(root)\n",
    "interview_entry.pack()\n",
    "\n",
    "submit_button = tk.Button(root, text = \"Submit\", command=submit)\n",
    "submit_button.pack()\n",
    "\n",
    "root.mainloop()\n"
   ]
  },
  {
   "cell_type": "code",
   "execution_count": null,
   "id": "c0beadef-406e-4d86-a43d-1f108ea79cbc",
   "metadata": {},
   "outputs": [
    {
     "name": "stderr",
     "output_type": "stream",
     "text": [
      "Exception in Tkinter callback\n",
      "Traceback (most recent call last):\n",
      "  File \"C:\\Users\\funsh\\anaconda3\\Lib\\tkinter\\__init__.py\", line 1948, in __call__\n",
      "    return self.func(*args)\n",
      "           ^^^^^^^^^^^^^^^^\n",
      "  File \"C:\\Users\\funsh\\AppData\\Local\\Temp\\ipykernel_2900\\1176176866.py\", line 5, in update_label\n",
      "    label.config(text=\"Selected: \" + \", \".join(selected_options))\n",
      "                                     ^^^^^^^^^^^^^^^^^^^^^^^^^^^\n",
      "TypeError: sequence item 0: expected str instance, bool found\n"
     ]
    }
   ],
   "source": [
    "\n",
    "\n",
    "\n"
   ]
  },
  {
   "cell_type": "code",
   "execution_count": null,
   "id": "22cf8a58-78ab-4635-adbf-361abc89372d",
   "metadata": {},
   "outputs": [],
   "source": []
  }
 ],
 "metadata": {
  "kernelspec": {
   "display_name": "Python 3 (ipykernel)",
   "language": "python",
   "name": "python3"
  },
  "language_info": {
   "codemirror_mode": {
    "name": "ipython",
    "version": 3
   },
   "file_extension": ".py",
   "mimetype": "text/x-python",
   "name": "python",
   "nbconvert_exporter": "python",
   "pygments_lexer": "ipython3",
   "version": "3.11.7"
  }
 },
 "nbformat": 4,
 "nbformat_minor": 5
}
