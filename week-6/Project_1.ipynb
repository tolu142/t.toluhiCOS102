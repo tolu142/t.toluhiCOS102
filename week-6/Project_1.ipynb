{
 "cells": [
  {
   "cell_type": "code",
   "execution_count": 18,
   "id": "7e9430ea-6266-4fe6-bc9d-0f68a56f8ab3",
   "metadata": {},
   "outputs": [],
   "source": [
    "import tkinter as tk \n",
    "from tkinter import messagebox\n",
    "\n",
    "def submit():\n",
    "    location = location_entry.get()\n",
    "    weight = int(weight_entry.get())\n",
    "\n",
    "    if location == \"Ibeju-Lekki\" and weight >= 10:\n",
    "        Price = 5000\n",
    "    elif location == \"Epe\" and weight >= 10:\n",
    "        Price = 10000\n",
    "    elif location == \"Epe\" or \"Ibeju-Lekki \" and weight < 10:\n",
    "        Price = 3500\n",
    "    else: \"No price tag\"\n",
    "    messagebox.showinfo(\"Simi Service\",f\"Your delivery fee due is {Price}\")\n",
    "    return\n",
    "\n",
    "\n",
    "root = tk.Tk()\n",
    "root.title(\"Delivery form\")\n",
    "root.geometry(\"500x200\")\n",
    "\n",
    "location_label = tk.Label(root, text = \"Location:\")\n",
    "location_label.pack()\n",
    "location_entry = tk.Entry(root)\n",
    "location_entry.pack()\n",
    "\n",
    "weight_label = tk.Label(root, text = \"Weight(kg)\")\n",
    "weight_label.pack()\n",
    "weight_entry = tk.Entry(root)\n",
    "weight_entry.pack()\n",
    "\n",
    "submit_button = tk.Button(root, text = \"Submit\", command=submit)\n",
    "submit_button.pack()\n",
    "\n",
    "root.mainloop()\n",
    "\n"
   ]
  },
  {
   "cell_type": "code",
   "execution_count": null,
   "id": "f97b088c-c6b8-4cb5-b967-223b78374d7c",
   "metadata": {},
   "outputs": [],
   "source": []
  },
  {
   "cell_type": "code",
   "execution_count": null,
   "id": "21776255-6a0b-40b2-a89f-961ca68396ff",
   "metadata": {},
   "outputs": [],
   "source": []
  }
 ],
 "metadata": {
  "kernelspec": {
   "display_name": "Python 3 (ipykernel)",
   "language": "python",
   "name": "python3"
  },
  "language_info": {
   "codemirror_mode": {
    "name": "ipython",
    "version": 3
   },
   "file_extension": ".py",
   "mimetype": "text/x-python",
   "name": "python",
   "nbconvert_exporter": "python",
   "pygments_lexer": "ipython3",
   "version": "3.11.7"
  }
 },
 "nbformat": 4,
 "nbformat_minor": 5
}
