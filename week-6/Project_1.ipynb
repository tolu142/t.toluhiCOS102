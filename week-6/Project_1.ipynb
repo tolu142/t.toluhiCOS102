{
 "cells": [
  {
   "cell_type": "code",
   "execution_count": 60,
   "id": "7e9430ea-6266-4fe6-bc9d-0f68a56f8ab3",
   "metadata": {},
   "outputs": [],
   "source": [
    "import tkinter as tk \n",
    "from tkinter import messagebox\n",
    "\n",
    "def walk():\n",
    "    window = tk.Toplevel(root)\n",
    "    window.title(\"Admin Box\")\n",
    "    window.geometry(\"500x200\")\n",
    "\n",
    "    label_1 = tk.Label(window, text = \"Thank you for using our service\")\n",
    "    label_1.pack()\n",
    "    label_2 = tk.Label(window, text = \"Delivery due is N5000\")\n",
    "    label_2.pack()\n",
    "\n",
    "    root.mainloop()\n",
    "\n",
    "def work():\n",
    "    window = tk.Toplevel(root)\n",
    "    window.title(\"Admin Box\")\n",
    "    window.geometry(\"500x200\")\n",
    "\n",
    "    label_1 = tk.Label(window, text = \"Thank you for using our service\")\n",
    "    label_1.pack()\n",
    "    label_2 = tk.Label(window, text = \"Delivery due is N10000\")\n",
    "    label_2.pack()\n",
    "\n",
    "    root.mainloop()\n",
    "\n",
    "def submit():\n",
    "    location = location_entry.get()\n",
    "    weight = weight_entry.get()\n",
    "\n",
    "    if location == \"Ibeju-Lekki\" and weight == 10:\n",
    "        print ( work )\n",
    "    elif location == \"Epe\" and weight == 11:\n",
    "        print ( walk )\n",
    "\n",
    "root = tk.Tk()\n",
    "root.title(\"Delivery form\")\n",
    "root.geometry(\"500x200\")\n",
    "\n",
    "location_label = tk.Label(root, text = \"Location:\")\n",
    "location_label.pack()\n",
    "location_entry = tk.Entry(root)\n",
    "location_entry.pack()\n",
    "\n",
    "weight_label = tk.Label(root, text = \"Weight(kg)\")\n",
    "weight_label.pack()\n",
    "weight_entry = tk.Entry(root)\n",
    "weight_entry.pack()\n",
    "\n",
    "submit_button = tk.Button(root, text = \"Submit\", command=submit)\n",
    "submit_button.pack()\n",
    "\n",
    "root.mainloop()\n",
    "\n"
   ]
  },
  {
   "cell_type": "code",
   "execution_count": null,
   "id": "f97b088c-c6b8-4cb5-b967-223b78374d7c",
   "metadata": {},
   "outputs": [],
   "source": []
  }
 ],
 "metadata": {
  "kernelspec": {
   "display_name": "Python 3 (ipykernel)",
   "language": "python",
   "name": "python3"
  },
  "language_info": {
   "codemirror_mode": {
    "name": "ipython",
    "version": 3
   },
   "file_extension": ".py",
   "mimetype": "text/x-python",
   "name": "python",
   "nbconvert_exporter": "python",
   "pygments_lexer": "ipython3",
   "version": "3.11.7"
  }
 },
 "nbformat": 4,
 "nbformat_minor": 5
}
